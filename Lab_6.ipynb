{
 "cells": [
  {
   "cell_type": "markdown",
   "metadata": {},
   "source": [
    "Lab 6 Group Project"
   ]
  },
  {
   "cell_type": "code",
   "execution_count": 10,
   "metadata": {},
   "outputs": [
    {
     "name": "stdin",
     "output_type": "stream",
     "text": [
      "Whats your name?  Ethan\n",
      "What is your age?  15\n",
      "how many inches tall are you? 56\n"
     ]
    },
    {
     "name": "stdout",
     "output_type": "stream",
     "text": [
      "Ethan can ride the Roller Coaster \n"
     ]
    }
   ],
   "source": [
    "name = input(\"Whats your name? \")\n",

    "print(\"Hello\", name)"
   ]
  },
  {
   "cell_type": "code",
   "execution_count": 7,
   "metadata": {},
   "outputs": [
    {
     "name": "stdin",
     "output_type": "stream",
     "text": [
      "What is your age?  15\n"
     ]
    },
    {
     "name": "stdout",
     "output_type": "stream",
     "text": [
      "You are 15 years old\n",
      "You cannot drive, and you are not an adult\n"
     ]
    }
   ],
   "source": [
    "age = input(\"What is your age? \")\n",
    "print(\"You are \" + age + \" years old\")\n",
    "\n",
    "if int(age) >= 18:\n",
    "    print(\"You are an adult, and you can drive\")\n",
    "elif int(age)>= 16:\n",
    "    print(\"You can drive, but you are not an adult\")\n",
    "else:\n",
    "    print(\"You cannot drive, and you are not an adult\")"
   ]
  },
  {
   "cell_type": "code",
   "execution_count": 2,
   "metadata": {},
   "outputs": [
    {
     "name": "stdin",
     "output_type": "stream",
     "text": [
      "How many feet tall are you without inches? 7\n",
      "how many inches past your feet are you? 3\n"
     ]
    },
    {
     "name": "stdout",
     "output_type": "stream",
     "text": [
      "You are 7 feet tall and  3 inches\n"
     ]
    }
   ],
   "source": [
    "Height=input(\"How many feet tall are you without inches?\")\n",
    "inches=input(\"how many inches past your feet are you?\")\n",
    "print(\"You are\",Height , \"feet tall\" ,  \"and \", inches , \"inches\")\n"
   ]
  },
  {
   "cell_type": "code",
   "execution_count": null,
   "metadata": {},
   "outputs": [],
   "source": []
  }
 ],
 "metadata": {
  "kernelspec": {
   "display_name": "Python 3",
   "language": "python",
   "name": "python3"
  },
  "language_info": {
   "codemirror_mode": {
    "name": "ipython",
    "version": 3
   },
   "file_extension": ".py",
   "mimetype": "text/x-python",
   "name": "python",
   "nbconvert_exporter": "python",
   "pygments_lexer": "ipython3",
   "version": "3.8.3"
  }
 },
 "nbformat": 4,
 "nbformat_minor": 4
}
