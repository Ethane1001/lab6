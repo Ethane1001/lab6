{
 "cells": [
  {
   "cell_type": "markdown",
   "metadata": {},
   "source": [
    "Lab 6 Group Project"
   ]
  },
  {
   "cell_type": "code",
   "execution_count": 10,
   "metadata": {},
   "outputs": [
    {
     "name": "stdin",
     "output_type": "stream",
     "text": [
      "Whats your name?  Ethan\n",
      "What is your age?  15\n",
      "how many inches tall are you? 56\n"
     ]
    },
    {
     "name": "stdout",
     "output_type": "stream",
     "text": [
      "Ethan can ride the Roller Coaster \n"
     ]
    }
   ],
   "source": [
    "name = input(\"Whats your name? \")\n",
    "age = input(\"What is your age? \")\n",
    "inches=input(\"how many inches tall are you?\")\n",
    "aboveaverage=(\"can ride the Roller Coaster \")\n",
    "inches=int(inches)\n",
    "age=int(age)\n",
    "if age>12 and inches>55:\n",
    "    print(name +\" \" + aboveaverage)\n",
    "else:\n",
    "    print(name ,\"is not allowed to ride \")\n",
    "\n",
    "\n",
    "   \n",
    "        \n",
    "\n",
    "\n"
   ]
  },
  {
   "cell_type": "code",
   "execution_count": null,
   "metadata": {},
   "outputs": [],
   "source": []
  }
 ],
 "metadata": {
  "kernelspec": {
   "display_name": "Python 3",
   "language": "python",
   "name": "python3"
  },
  "language_info": {
   "codemirror_mode": {
    "name": "ipython",
    "version": 3
   },
   "file_extension": ".py",
   "mimetype": "text/x-python",
   "name": "python",
   "nbconvert_exporter": "python",
   "pygments_lexer": "ipython3",
   "version": "3.8.3"
  }
 },
 "nbformat": 4,
 "nbformat_minor": 4
}
